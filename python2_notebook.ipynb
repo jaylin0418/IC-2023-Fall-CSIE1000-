{
  "cells": [
    {
      "cell_type": "markdown",
      "metadata": {
        "id": "view-in-github",
        "colab_type": "text"
      },
      "source": [
        "<a href=\"https://colab.research.google.com/github/jaylin0418/IC-2023-Fall-CSIE1000-/blob/main/python2_notebook.ipynb\" target=\"_parent\"><img src=\"https://colab.research.google.com/assets/colab-badge.svg\" alt=\"Open In Colab\"/></a>"
      ]
    },
    {
      "cell_type": "markdown",
      "metadata": {
        "id": "i3bcJKCPCU8S"
      },
      "source": [
        "## 台大資管營：Python (2)\n",
        "\n",
        "這是台大資管營的第二堂 Python 程式設計課程講義，希望可以幫助學員進一步了解並掌握 Python 的進階功能。\n",
        "\n",
        "涵蓋的主題包括：\n",
        "- 元組 Tuple\n",
        "- 集合 Set\n",
        "- 字典 Dictionary\n",
        "- 函數 Function\n",
        "- 物件 Object\n",
        "- 模組與套件"
      ]
    },
    {
      "cell_type": "markdown",
      "metadata": {
        "id": "-9V9B2bbCU8U"
      },
      "source": [
        "## Tuple\n",
        "\n",
        "在 Python 中，我們使用 `(小括號)` 表達元組"
      ]
    },
    {
      "cell_type": "code",
      "execution_count": null,
      "metadata": {
        "id": "nYVy0zdqCU8U"
      },
      "outputs": [],
      "source": [
        "a_tuple = tuple()\n",
        "a_tuple = ()\n",
        "coordinate = (0, 0)"
      ]
    },
    {
      "cell_type": "code",
      "execution_count": null,
      "metadata": {
        "id": "MvxSya7TCU8V",
        "outputId": "8872911e-5b40-4691-c8a5-9523154687af"
      },
      "outputs": [
        {
          "name": "stdout",
          "output_type": "stream",
          "text": [
            "(0, 0)\n",
            "0\n"
          ]
        }
      ],
      "source": [
        "coordinate = (0, 0)\n",
        "print(coordinate) # 印出 (0, 0)\n",
        "print(coordinate[0])  # 印出 0"
      ]
    },
    {
      "cell_type": "markdown",
      "metadata": {
        "id": "gPLZtmVjCU8W"
      },
      "source": [
        "tuple 和 list 是非常相似的東西，不過 tuple 在建立之後就無法更改裡面的資料。\n",
        "\n",
        "所以我們不能對一個 tuple 新增元素、刪除元素。"
      ]
    },
    {
      "cell_type": "markdown",
      "metadata": {
        "id": "mxOKvkfMCU8W"
      },
      "source": [
        "### 小試身手 (1)\n",
        "\n",
        "請寫出一段 Python 程式碼，來創建一個元組，並嘗試將其中的元素改為其他值。觀察並說明程式執行的結果。"
      ]
    },
    {
      "cell_type": "code",
      "execution_count": null,
      "metadata": {
        "id": "_ZWF9OGrCU8W"
      },
      "outputs": [],
      "source": [
        "# TODO"
      ]
    },
    {
      "cell_type": "markdown",
      "metadata": {
        "id": "k61G1lQKCU8X"
      },
      "source": [
        "### 解答"
      ]
    },
    {
      "cell_type": "code",
      "execution_count": null,
      "metadata": {
        "id": "57BtKwtnCU8X",
        "outputId": "7e02c521-1c0a-4908-8ebb-ddf16c35054e"
      },
      "outputs": [
        {
          "name": "stdout",
          "output_type": "stream",
          "text": [
            "Error: 'tuple' object does not support item assignment\n",
            "Tuple after attempting modification: (1, 2, 3)\n"
          ]
        }
      ],
      "source": [
        "my_tuple = (1, 2, 3)\n",
        "\n",
        "try:\n",
        "    my_tuple[0] = 10\n",
        "except TypeError as e:\n",
        "    print(\"Error:\", e)\n",
        "\n",
        "print(\"Tuple after attempting modification:\", my_tuple)"
      ]
    },
    {
      "cell_type": "markdown",
      "metadata": {
        "id": "8pzYXZvzCU8X"
      },
      "source": [
        "## Set\n",
        "\n",
        "在 Python 中，set 是一個裝資料的大容器：\n",
        "\n",
        "- 同樣的值只出現一次\n",
        "- 裡面裝的元素之間是沒有位置關係的。"
      ]
    },
    {
      "cell_type": "code",
      "execution_count": null,
      "metadata": {
        "id": "Q5JYDWOUCU8X",
        "outputId": "0779e5b8-6e42-4daa-fbfb-f56555900127"
      },
      "outputs": [
        {
          "data": {
            "text/plain": [
              "{10, 20}"
            ]
          },
          "execution_count": 104,
          "metadata": {},
          "output_type": "execute_result"
        }
      ],
      "source": [
        "a_set = set() # 空集合\n",
        "a_set.add(10) # 添加元素 10\n",
        "a_set.add(20) # 添加元素 20\n",
        "a_set.add(10) # 再次添加 10（無效，集合不允許重複）\n",
        "a_set # ???"
      ]
    },
    {
      "cell_type": "markdown",
      "metadata": {
        "id": "m3r9PBb-CU8Y"
      },
      "source": [
        "remove 方法從集合中刪除指定的元素。如果該元素不存在，會拋出 `KeyError`。"
      ]
    },
    {
      "cell_type": "code",
      "execution_count": null,
      "metadata": {
        "id": "GaTA1veRCU8Y",
        "outputId": "534258c9-22b0-4988-962d-b794d5f12e60"
      },
      "outputs": [
        {
          "name": "stdout",
          "output_type": "stream",
          "text": [
            "{1, 2, 4}\n"
          ]
        }
      ],
      "source": [
        "a_set = {1, 2, 3, 4}\n",
        "a_set.remove(3) # 移除元素 3\n",
        "print(a_set) # {1, 2, 4}\n",
        "#a_set.remove(5) # Error"
      ]
    },
    {
      "cell_type": "markdown",
      "metadata": {
        "id": "5KuzJdp_CU8Y"
      },
      "source": [
        "discard 方法從集合中刪除指定的元素。如果該元素不存在，不會拋出錯誤。"
      ]
    },
    {
      "cell_type": "code",
      "execution_count": null,
      "metadata": {
        "id": "ymtgnbBDCU8Y"
      },
      "outputs": [],
      "source": [
        "a_set.discard(5) # 沒有錯誤"
      ]
    },
    {
      "cell_type": "markdown",
      "metadata": {
        "id": "BLevDYZtCU8Y"
      },
      "source": [
        "union 方法用於返回兩個集合的聯集，包含兩個集合所有唯一元素的集合。"
      ]
    },
    {
      "cell_type": "code",
      "execution_count": null,
      "metadata": {
        "id": "GtH44ownCU8Y",
        "outputId": "87b2660e-9af9-4a89-f2cc-da7c725cbaba"
      },
      "outputs": [
        {
          "name": "stdout",
          "output_type": "stream",
          "text": [
            "{1, 2, 3, 4, 5}\n"
          ]
        }
      ],
      "source": [
        "a_set = {1, 2, 3}\n",
        "b_set = {3, 4, 5}\n",
        "result = a_set.union(b_set) # 返回兩集合的聯集\n",
        "print(result) # {1, 2, 3, 4, 5}"
      ]
    },
    {
      "cell_type": "markdown",
      "metadata": {
        "id": "gMVSLWvDCU8Y"
      },
      "source": [
        "intersection 方法用於返回兩個集合的交集，即同時存在於兩個集合中的元素。"
      ]
    },
    {
      "cell_type": "code",
      "execution_count": null,
      "metadata": {
        "id": "hhumhqDwCU8Y",
        "outputId": "c5a63d40-6f13-4bf2-bb6b-ebca1587fbc1"
      },
      "outputs": [
        {
          "name": "stdout",
          "output_type": "stream",
          "text": [
            "{3}\n"
          ]
        }
      ],
      "source": [
        "a_set = {1, 2, 3}\n",
        "b_set = {3, 4, 5}\n",
        "result = a_set.intersection(b_set) # 返回兩集合的交集\n",
        "print(result) # {3}"
      ]
    },
    {
      "cell_type": "markdown",
      "metadata": {
        "id": "VLw0JUFGCU8Y"
      },
      "source": [
        "### 小試身手 (2)"
      ]
    },
    {
      "cell_type": "code",
      "execution_count": null,
      "metadata": {
        "id": "UdWoQitRCU8Y",
        "outputId": "5392e663-62e3-43f1-b89e-12c0cdb06f9d"
      },
      "outputs": [
        {
          "name": "stdout",
          "output_type": "stream",
          "text": [
            "籃球社成員: {'Alice', 'Bob', 'Charlie', 'David'}\n",
            "排球社成員: {'Charlie', 'Frank', 'Eve', 'Alice'}\n"
          ]
        }
      ],
      "source": [
        "basketball_club = {\"Alice\", \"Bob\", \"Charlie\", \"David\"}\n",
        "volleyball_club = {\"Eve\", \"Frank\", \"Charlie\", \"Alice\"}\n",
        "\n",
        "# 問題 1: 新增 Grace 到籃球社\n",
        "\n",
        "# 問題 2: 從排球社移除 Eve\n",
        "print(\"籃球社成員:\", basketball_club)\n",
        "print(\"排球社成員:\", volleyball_club)\n",
        "\n",
        "# 問題 3: 同時參加兩個社團的成員\n",
        "# TODO: both_clubs =\n",
        "#print(\"同時參加兩個社團的成員:\", both_clubs)\n",
        "\n",
        "# 問題 4: 至少參加一個社團的成員\n",
        "# TODO: all_members =\n",
        "#print(\"至少參加一個社團的成員:\", all_members)"
      ]
    },
    {
      "cell_type": "markdown",
      "metadata": {
        "id": "7iCfHecpCU8Z"
      },
      "source": [
        "### 解答"
      ]
    },
    {
      "cell_type": "code",
      "execution_count": null,
      "metadata": {
        "id": "tgUKTg6ZCU8Z",
        "outputId": "fe921e4f-3c33-4616-f70e-90222883e779"
      },
      "outputs": [
        {
          "name": "stdout",
          "output_type": "stream",
          "text": [
            "同時參加兩個社團的成員: {'Charlie', 'Alice'}\n",
            "至少參加一個社團的成員: {'Alice', 'Bob', 'Grace', 'David', 'Charlie', 'Frank'}\n",
            "籃球社成員: {'Bob', 'Charlie', 'Alice', 'Grace', 'David'}\n",
            "排球社成員: {'Charlie', 'Frank', 'Alice'}\n"
          ]
        }
      ],
      "source": [
        "basketball_club = {\"Alice\", \"Bob\", \"Charlie\", \"David\"}\n",
        "volleyball_club = {\"Eve\", \"Frank\", \"Charlie\", \"Alice\"}\n",
        "\n",
        "# 問題 1: 新增 Grace 到籃球社\n",
        "basketball_club.add(\"Grace\")\n",
        "\n",
        "# 問題 2: 從排球社移除 Eve\n",
        "volleyball_club.remove(\"Eve\")\n",
        "\n",
        "# 問題 3: 同時參加兩個社團的成員\n",
        "both_clubs = basketball_club.intersection(volleyball_club)\n",
        "print(\"同時參加兩個社團的成員:\", both_clubs)\n",
        "\n",
        "# 問題 4: 至少參加一個社團的成員\n",
        "all_members = basketball_club.union(volleyball_club)\n",
        "print(\"至少參加一個社團的成員:\", all_members)\n",
        "\n",
        "# 更新後的名單\n",
        "print(\"籃球社成員:\", basketball_club)\n",
        "print(\"排球社成員:\", volleyball_club)\n"
      ]
    },
    {
      "cell_type": "markdown",
      "metadata": {
        "id": "NVpf87xdCU8Z"
      },
      "source": [
        "## Dictionary\n",
        "\n",
        "字典是由鍵值對（key-value pairs）組成的無序集合。\n",
        "\n",
        "- 鍵是唯一的，而值可以是任何資料類型。\n",
        "\n",
        "- 可以通過鍵來存取對應的值。"
      ]
    },
    {
      "cell_type": "markdown",
      "metadata": {
        "id": "fWEdzTwxCU8Z"
      },
      "source": [
        "在 Python 中，我們使用 `{大括號}` 表達字典"
      ]
    },
    {
      "cell_type": "code",
      "execution_count": null,
      "metadata": {
        "id": "RR18NKzXCU8Z"
      },
      "outputs": [],
      "source": [
        "#創建一個空字典：\n",
        "my_dict = {} # 空字典"
      ]
    },
    {
      "cell_type": "code",
      "execution_count": null,
      "metadata": {
        "id": "As3w-AdbCU8Z",
        "outputId": "4c9b4df4-d7a5-4e96-f595-88b0130f87a0"
      },
      "outputs": [
        {
          "name": "stdout",
          "output_type": "stream",
          "text": [
            "{'name': 'Alice', 'age': 25, 'city': 'New York'}\n"
          ]
        }
      ],
      "source": [
        "#使用鍵值對初始化字典：\n",
        "person = {\"name\": \"Alice\", \"age\": 25, \"city\": \"New York\"}\n",
        "print(person) # {'name': 'Alice', 'age': 25, 'city': 'New York'}"
      ]
    },
    {
      "cell_type": "markdown",
      "metadata": {
        "id": "m1RvNignCU8Z"
      },
      "source": [
        "當我們想要取出某個 key 所對應到的 value，我們可以用：`dict[key]`。"
      ]
    },
    {
      "cell_type": "code",
      "execution_count": null,
      "metadata": {
        "id": "Ysb-An5KCU8Z",
        "outputId": "514a45af-70fa-45d3-b719-7b26e3c37b5b"
      },
      "outputs": [
        {
          "data": {
            "text/plain": [
              "'Alice'"
            ]
          },
          "execution_count": 113,
          "metadata": {},
          "output_type": "execute_result"
        }
      ],
      "source": [
        "# 例如，如果想要求出 name 這個 key 所對應的 value，我們可以這樣寫：\n",
        "\n",
        "person['name'] # 程式就會回傳 'Alice'"
      ]
    },
    {
      "cell_type": "markdown",
      "metadata": {
        "id": "S6anxqEECU8Z"
      },
      "source": [
        "字典更改和增加的語法一模一樣!\n",
        "\n",
        "如果我們想要將 age 的值改為 30，可以這樣寫："
      ]
    },
    {
      "cell_type": "code",
      "execution_count": null,
      "metadata": {
        "id": "bJjOa5MFCU8Z"
      },
      "outputs": [],
      "source": [
        "person[\"age\"] = 30 # 更改 age 的值\n",
        "person[\"school\"] = \"NTU\""
      ]
    },
    {
      "cell_type": "code",
      "execution_count": null,
      "metadata": {
        "id": "1qOqMjvpCU8Z",
        "outputId": "cb5e7c1f-a7d5-43ec-eca3-d1eb0472d0c7"
      },
      "outputs": [
        {
          "data": {
            "text/plain": [
              "{'name': 'Alice', 'age': 30, 'city': 'New York', 'school': 'NTU'}"
            ]
          },
          "execution_count": 115,
          "metadata": {},
          "output_type": "execute_result"
        }
      ],
      "source": [
        "person"
      ]
    },
    {
      "cell_type": "markdown",
      "metadata": {
        "id": "5Dft0DEZCU8Z"
      },
      "source": [
        "我們有兩種方法可以刪除字典中的元素：\n",
        "\n",
        "1. 使用 `del` 刪除指定鍵："
      ]
    },
    {
      "cell_type": "code",
      "execution_count": null,
      "metadata": {
        "id": "a0CbH-FFCU8a",
        "outputId": "5435ea8c-fea1-4399-ebdf-7626d7eeeee2"
      },
      "outputs": [
        {
          "name": "stdout",
          "output_type": "stream",
          "text": [
            "{'name': 'Alice', 'age': 30, 'school': 'NTU'}\n"
          ]
        }
      ],
      "source": [
        "del person[\"city\"] # 刪除 \"city\" 這個鍵及其對應的值\n",
        "print(person) # {'name': 'Alice', 'age': 30, 'school': 'NTU'}"
      ]
    },
    {
      "cell_type": "markdown",
      "metadata": {
        "id": "PO54XpmfCU8a"
      },
      "source": [
        "2. 使用 `pop` 刪除指定鍵："
      ]
    },
    {
      "cell_type": "code",
      "execution_count": null,
      "metadata": {
        "id": "2P7qBQESCU8a",
        "outputId": "d333cea8-dac8-4403-8aa2-995f71e2fe33"
      },
      "outputs": [
        {
          "name": "stdout",
          "output_type": "stream",
          "text": [
            "{'name': 'Alice', 'school': 'NTU'}\n",
            "Age: 30\n"
          ]
        }
      ],
      "source": [
        "age = person.pop(\"age\") # 刪除並返回 \"age\" 的值\n",
        "print(person) # {'name': 'Alice', 'school': 'NTU'}\n",
        "print(\"Age:\", age) # 30"
      ]
    },
    {
      "cell_type": "markdown",
      "metadata": {
        "id": "CxTkIluZCU8a"
      },
      "source": [
        "在某些應用中，我們只想取出字典中的鍵或值：\n",
        "1. 使用 `keys()` 取出所有鍵："
      ]
    },
    {
      "cell_type": "code",
      "execution_count": null,
      "metadata": {
        "id": "Wu1Vp56XCU8a",
        "outputId": "7a99b827-8b9d-4189-f44c-eb52fb4a9cee"
      },
      "outputs": [
        {
          "name": "stdout",
          "output_type": "stream",
          "text": [
            "dict_keys(['name', 'school'])\n"
          ]
        }
      ],
      "source": [
        "keys = person.keys()\n",
        "print(keys)  # dict_keys(['name', 'school'])"
      ]
    },
    {
      "cell_type": "markdown",
      "metadata": {
        "id": "KRSOXOIkCU8a"
      },
      "source": [
        "2. 使用 `values` 取出所有值：\n"
      ]
    },
    {
      "cell_type": "code",
      "execution_count": null,
      "metadata": {
        "id": "-qgNwVr2CU8f",
        "outputId": "67bb60c4-c43e-4cb9-9376-077985fa39a1"
      },
      "outputs": [
        {
          "name": "stdout",
          "output_type": "stream",
          "text": [
            "dict_values(['Alice', 'NTU'])\n"
          ]
        }
      ],
      "source": [
        "values = person.values()\n",
        "print(values)  # dict_values(['Alice', 'NTU'])"
      ]
    },
    {
      "cell_type": "markdown",
      "metadata": {
        "id": "4L6KaltrCU8f"
      },
      "source": [
        "3. 使用 `items()` 取出所有鍵值對"
      ]
    },
    {
      "cell_type": "code",
      "execution_count": null,
      "metadata": {
        "id": "YEw1ZQFNCU8f",
        "outputId": "76075b96-63f1-4ae4-9697-c9b1b602033c"
      },
      "outputs": [
        {
          "name": "stdout",
          "output_type": "stream",
          "text": [
            "dict_items([('name', 'Alice'), ('school', 'NTU')])\n"
          ]
        }
      ],
      "source": [
        "items = person.items()\n",
        "print(items)  # dict_items([('name', 'Alice'), ('school', 'NTU')])"
      ]
    },
    {
      "cell_type": "markdown",
      "metadata": {
        "id": "DOjVhxZPCU8f"
      },
      "source": [
        "### 小試身手 (3)\n",
        "\n",
        "(ZeroJudge b523).\n",
        "\n",
        "\n",
        "題目：有多個輸入被存在 `input_lines`中，每一個元素都是可能包含大小寫英文字母、數字、空白的字串。\n",
        "\n",
        "對於每一個字串，判斷其是否為第一次出現，若該字串是第一次出現，就印出 NO。若該字串曾經出現過，則印出 YES。"
      ]
    },
    {
      "cell_type": "code",
      "execution_count": null,
      "metadata": {
        "id": "g2SAnUTnCU8f"
      },
      "outputs": [],
      "source": [
        "input_lines = [\n",
        "    \"Hello World\",\n",
        "    \"Python is great\",\n",
        "    \"Hello World\",\n",
        "    \"Hello Python\",\n",
        "    \"Python is great\",\n",
        "    \"Data Science\",\n",
        "    \"Machine Learning\",\n",
        "    \"Data Science\",\n",
        "    \"Deep Learning\",\n",
        "    \"Python is great\",\n",
        "    \"Artificial Intelligence\",\n",
        "    \"Machine Learning\",\n",
        "    \"Data Analysis\",\n",
        "    \"Hello Python\",\n",
        "    \"Deep Learning\"\n",
        "]\n",
        "\n",
        "## 請接著往下寫\n",
        "## TODO"
      ]
    },
    {
      "cell_type": "markdown",
      "metadata": {
        "id": "8S6gInSBCU8f"
      },
      "source": [
        "你的程式碼應該印出：\n",
        "\n",
        "```\n",
        "NO\n",
        "NO\n",
        "YES\n",
        "NO\n",
        "YES\n",
        "NO\n",
        "NO\n",
        "YES\n",
        "NO\n",
        "YES\n",
        "NO\n",
        "YES\n",
        "NO\n",
        "YES\n",
        "YES\n",
        "```"
      ]
    },
    {
      "cell_type": "markdown",
      "metadata": {
        "id": "0cKQj1C2CU8f"
      },
      "source": [
        "### 解答"
      ]
    },
    {
      "cell_type": "code",
      "execution_count": null,
      "metadata": {
        "id": "sLetWldfCU8f",
        "outputId": "68e1c219-3b83-404c-c911-ace7b397397e"
      },
      "outputs": [
        {
          "name": "stdout",
          "output_type": "stream",
          "text": [
            "NO\n",
            "NO\n",
            "YES\n",
            "NO\n",
            "YES\n",
            "NO\n",
            "NO\n",
            "YES\n",
            "NO\n",
            "YES\n",
            "NO\n",
            "YES\n",
            "NO\n",
            "YES\n",
            "YES\n"
          ]
        }
      ],
      "source": [
        "seen = {}\n",
        "\n",
        "# 判斷每行是否為第一次出現\n",
        "for line in input_lines:\n",
        "    if line not in seen:\n",
        "        print(\"NO\")\n",
        "        seen[line] = 1  # 記錄該字串第一次出現\n",
        "    else:\n",
        "        print(\"YES\")"
      ]
    },
    {
      "cell_type": "markdown",
      "metadata": {
        "id": "qOUbWXQyCU8f"
      },
      "source": [
        "## Function\n",
        "\n",
        "### 函數的基本操作\n",
        "\n",
        "- 函數定義與呼叫"
      ]
    },
    {
      "cell_type": "code",
      "execution_count": null,
      "metadata": {
        "id": "u7RvoGKZCU8f",
        "outputId": "f8077b73-cb14-4b82-a831-9a9363fd4b11"
      },
      "outputs": [
        {
          "data": {
            "text/plain": [
              "'\\ndef 函數名稱(參數1, 參數2, ...):\\n    \"\"\"函數的說明（可選）\"\"\"\\n    函數的邏輯\\n    return 返回值（可選）\\n    \\n'"
            ]
          },
          "execution_count": 123,
          "metadata": {},
          "output_type": "execute_result"
        }
      ],
      "source": [
        "'''\n",
        "def 函數名稱(參數1, 參數2, ...):\n",
        "    \"\"\"函數的說明（可選）\"\"\"\n",
        "    函數的邏輯\n",
        "    return 返回值（可選）\n",
        "\n",
        "'''"
      ]
    },
    {
      "cell_type": "code",
      "execution_count": null,
      "metadata": {
        "id": "njtdJ6Z8CU8f",
        "outputId": "f2516044-9cd5-4f22-ad51-aa3604bd18ed"
      },
      "outputs": [
        {
          "name": "stdout",
          "output_type": "stream",
          "text": [
            "Hello, Alice!\n"
          ]
        }
      ],
      "source": [
        "# 定義函數\n",
        "def greet(name):\n",
        "    \"\"\"打招呼函數\"\"\"\n",
        "    return f\"Hello, {name}!\"\n",
        "\n",
        "# 呼叫函數\n",
        "message = greet(\"Alice\")\n",
        "print(message)  # Hello, Alice!"
      ]
    },
    {
      "cell_type": "markdown",
      "metadata": {
        "id": "9n4FoxPDCU8f"
      },
      "source": [
        "- 帶有預設參數的函數"
      ]
    },
    {
      "cell_type": "code",
      "execution_count": null,
      "metadata": {
        "id": "l-EjAfX1CU8g",
        "outputId": "06123c87-b69b-4fcf-c04c-9a3d7a15b35a"
      },
      "outputs": [
        {
          "name": "stdout",
          "output_type": "stream",
          "text": [
            "Hello, Guest!\n",
            "Hello, Alice!\n"
          ]
        }
      ],
      "source": [
        "def greet(name=\"Guest\"):\n",
        "    \"\"\"打招呼函數，帶預設參數\"\"\"\n",
        "    return f\"Hello, {name}!\"\n",
        "\n",
        "# 不傳參數，使用預設值\n",
        "print(greet()) # Hello, Guest!\n",
        "\n",
        "# 傳入參數，覆蓋預設值\n",
        "print(greet(\"Alice\")) # Hello, Alice!"
      ]
    },
    {
      "cell_type": "markdown",
      "metadata": {
        "id": "s54GqLMvCU8g"
      },
      "source": [
        "- 帶多個參數的函數"
      ]
    },
    {
      "cell_type": "code",
      "execution_count": null,
      "metadata": {
        "id": "koju8ZTvCU8g",
        "outputId": "f6230ab2-68ac-428f-f689-fc3235b23628"
      },
      "outputs": [
        {
          "name": "stdout",
          "output_type": "stream",
          "text": [
            "85.0\n",
            "83.0\n"
          ]
        }
      ],
      "source": [
        "def weighted_average(a, b, weight_a=0.5, weight_b=0.5):\n",
        "    \"\"\"計算兩數的加權平均數\"\"\"\n",
        "    return (a * weight_a) + (b * weight_b)\n",
        "\n",
        "# 呼叫函數，使用預設權重\n",
        "print(weighted_average(80, 90))  # 85.0\n",
        "\n",
        "# 傳入自定義權重\n",
        "print(weighted_average(80, 90, weight_a=0.7, weight_b=0.3))  # 83.0"
      ]
    },
    {
      "cell_type": "markdown",
      "metadata": {
        "id": "iILwBvO5CU8g"
      },
      "source": [
        "- 如何將參數傳入函數？"
      ]
    },
    {
      "cell_type": "code",
      "execution_count": null,
      "metadata": {
        "id": "qKxfIzHDCU8g"
      },
      "outputs": [],
      "source": [
        "def intro(name, country, age):\n",
        "    print(\"My name is \" + name + \". I'm \" + str(age) + \" years old. I'm from \" + country + \".\")"
      ]
    },
    {
      "cell_type": "markdown",
      "metadata": {
        "id": "FBl85-oJCU8g"
      },
      "source": [
        "- 如果沒有特別指定，傳入參數的順序要依照函數宣告時所使用的順序："
      ]
    },
    {
      "cell_type": "code",
      "execution_count": null,
      "metadata": {
        "id": "cY9gdwQoCU8g",
        "outputId": "a23cf13d-2ecf-4f11-801c-94afa66a3e87"
      },
      "outputs": [
        {
          "name": "stdout",
          "output_type": "stream",
          "text": [
            "My name is John. I'm 18 years old. I'm from Taiwan (R.O.C.).\n"
          ]
        }
      ],
      "source": [
        "intro(\"John\", \"Taiwan (R.O.C.)\", 18)"
      ]
    },
    {
      "cell_type": "markdown",
      "metadata": {
        "id": "hKr7UFzSCU8g"
      },
      "source": [
        "- 我們也可以用關鍵字傳參數，在傳入的值前面「註明」其所對應的參數名稱！"
      ]
    },
    {
      "cell_type": "code",
      "execution_count": null,
      "metadata": {
        "id": "mturNe_sCU8g",
        "outputId": "12c3c394-734a-47cd-b5a7-8003722422f0"
      },
      "outputs": [
        {
          "name": "stdout",
          "output_type": "stream",
          "text": [
            "My name is John. I'm 18 years old. I'm from Taiwan (R.O.C.).\n"
          ]
        }
      ],
      "source": [
        "intro(country = \"Taiwan (R.O.C.)\", age = 18, name =\"John\")"
      ]
    },
    {
      "cell_type": "markdown",
      "metadata": {
        "id": "S2fKaiW2CU8g"
      },
      "source": [
        "使用關鍵字參數的範例"
      ]
    },
    {
      "cell_type": "code",
      "execution_count": null,
      "metadata": {
        "id": "EIYFMIheCU8g",
        "outputId": "f9992a28-76bf-40ae-a646-bc429cff8b91"
      },
      "outputs": [
        {
          "name": "stdout",
          "output_type": "stream",
          "text": [
            "name: Alice\n",
            "age: 25\n",
            "city: New York\n"
          ]
        }
      ],
      "source": [
        "def display_info(**info):\n",
        "    \"\"\"顯示輸入的資訊\"\"\"\n",
        "    for key, value in info.items():\n",
        "        print(f\"{key}: {value}\")\n",
        "\n",
        "# 傳入多個鍵值對\n",
        "display_info(name=\"Alice\", age=25, city=\"New York\")\n",
        "# 輸出:\n",
        "# name: Alice\n",
        "# age: 25\n",
        "# city: New York"
      ]
    },
    {
      "cell_type": "markdown",
      "metadata": {
        "id": "TqwX3EDaCU8g"
      },
      "source": [
        "### 變數範疇與命名空間"
      ]
    },
    {
      "cell_type": "code",
      "execution_count": null,
      "metadata": {
        "id": "23WobCaJCU8g",
        "outputId": "65e1abd0-a181-46c3-8293-5a08f8787055"
      },
      "outputs": [
        {
          "name": "stdout",
          "output_type": "stream",
          "text": [
            "10\n"
          ]
        }
      ],
      "source": [
        "# 全域變數\n",
        "x = 10 # x 在全域範疇內\n",
        "\n",
        "def example_function():\n",
        "    print(x) # 訪問全域變數 x\n",
        "\n",
        "example_function() # 輸出 10"
      ]
    },
    {
      "cell_type": "code",
      "execution_count": null,
      "metadata": {
        "id": "DzMSX3SPCU8h",
        "outputId": "f8499ce8-6c17-40e2-b98d-2cd43d6b3607"
      },
      "outputs": [
        {
          "name": "stdout",
          "output_type": "stream",
          "text": [
            "5\n"
          ]
        }
      ],
      "source": [
        "def example_function():\n",
        "    # 區域變數\n",
        "    x = 5 # x 在區域範疇內\n",
        "    print(x) # 訪問區域變數 x\n",
        "\n",
        "example_function() # 輸出 5\n",
        "# print(x) 會引發錯誤，因為 x 是區域變數，無法在函數外部訪問"
      ]
    },
    {
      "cell_type": "markdown",
      "metadata": {
        "id": "ppAuHwEqCU8h"
      },
      "source": [
        "### 小試身手 (4)"
      ]
    },
    {
      "cell_type": "code",
      "execution_count": null,
      "metadata": {
        "id": "XVsntTH0CU8h",
        "outputId": "f1898560-6b5e-4490-fd2d-58935ab32e61"
      },
      "outputs": [
        {
          "name": "stdout",
          "output_type": "stream",
          "text": [
            "In function_1, x = 5\n",
            "In function_2, x = 6\n",
            "In main, x = 8\n"
          ]
        }
      ],
      "source": [
        "def function_1():\n",
        "    x = 5  # 區域變數 (local variable)\n",
        "    print(\"In function_1, x =\", x)\n",
        "\n",
        "def function_2():\n",
        "    x = 6  # 區域變數 (local variable)\n",
        "    print(\"In function_2, x =\", x)\n",
        "\n",
        "x = 8  # 全域變數 (global variable)\n",
        "function_1()\n",
        "function_2()\n",
        "print(\"In main, x =\", x)\n"
      ]
    },
    {
      "cell_type": "markdown",
      "metadata": {
        "id": "nJJQ33maCU8h"
      },
      "source": [
        "### 遞迴函數\n",
        "- 其定義中調用自身的函數。\n",
        "- 用來解決那些可以分解為相同問題的較小版本的問題。"
      ]
    },
    {
      "cell_type": "code",
      "execution_count": null,
      "metadata": {
        "id": "Iht-CXsmCU8h"
      },
      "outputs": [],
      "source": [
        "def factorial(n):\n",
        "    if n == 0:\n",
        "        return 1 # 檢查是否為 base case\n",
        "    else:\n",
        "        return n * factorial(n-1) # 如果未達到，則進行遞迴"
      ]
    },
    {
      "cell_type": "code",
      "execution_count": null,
      "metadata": {
        "id": "BuC-byoBCU8h",
        "outputId": "6239ac2f-ccef-4940-8127-bb9474c7f02a"
      },
      "outputs": [
        {
          "name": "stdout",
          "output_type": "stream",
          "text": [
            "120\n"
          ]
        }
      ],
      "source": [
        "print(factorial(5))  # 120"
      ]
    },
    {
      "cell_type": "markdown",
      "metadata": {
        "id": "kcwfHJNhCU8h"
      },
      "source": [
        "### 小試身手 (5)\n",
        "\n",
        "(ZeroJudge e357).\n",
        "\n",
        "定義函數 $F(x)$\n",
        "\n",
        "$$\n",
        "F(x) =\n",
        "\\begin{cases}\n",
        "1 & \\text{若 } x = 1 \\\\\n",
        "F\\left(\\frac{x}{2}\\right) & \\text{若 } x \\text{ 為偶數} \\\\\n",
        "F(x - 1) + F(x + 1) & \\text{其餘情況}\n",
        "\\end{cases}\n",
        "$$\n",
        "\n",
        "請在講義 Jupyter Notebook 中寫出此函數，並算出 $F(14)$ 和 $F(15)$。"
      ]
    },
    {
      "cell_type": "code",
      "execution_count": null,
      "metadata": {
        "id": "WvxZi8RmCU8h"
      },
      "outputs": [],
      "source": [
        "## 請接著往下寫\n",
        "def F(x):\n",
        "    pass\n",
        "    # TODO"
      ]
    },
    {
      "cell_type": "markdown",
      "metadata": {
        "id": "EEjqi1TbCU8h"
      },
      "source": [
        "### 解答"
      ]
    },
    {
      "cell_type": "code",
      "execution_count": null,
      "metadata": {
        "id": "IQG9jcXzCU8h",
        "outputId": "077e70ef-dfc9-46b5-a53e-25cc1e4fb8bd"
      },
      "outputs": [
        {
          "name": "stdout",
          "output_type": "stream",
          "text": [
            "3 4\n"
          ]
        }
      ],
      "source": [
        "def F(x):\n",
        "    if x == 1:\n",
        "        return 1\n",
        "    elif x % 2 == 0:\n",
        "        return F(x // 2)\n",
        "    else:\n",
        "        return F(x - 1) + F(x + 1)\n",
        "\n",
        "print(F(14), F(15))"
      ]
    },
    {
      "cell_type": "markdown",
      "metadata": {
        "id": "ldoT0mf6CU8h"
      },
      "source": [
        "## Object\n",
        "\n",
        "將物件類比為一個「盒子」，內部包含：\n",
        "- **屬性 (Attributes)**：描述物件的資料 (如名稱、顏色)。\n",
        "- **方法 (Methods)**：操作物件的行為 (如喵喵叫、吃東西)。\n",
        "\n",
        "---\n",
        "\n",
        "##### 類別 (Class)\n",
        "用來定義物件的範疇，規範所有屬性與方法的共同特徵。\n",
        "\n",
        "例如，定義「貓咪」類別，包含：\n",
        "- **屬性**：名字、毛色。\n",
        "- **方法**：喵喵叫、睡覺。\n",
        "\n",
        "---\n",
        "\n",
        "##### 實例 (Instance)\n",
        "具體化的物件，例如：\n",
        "- **貓咪實例**: 大橘、小白。  \n",
        "  它們的名字不同，但都屬於「貓咪」類別，共享基本屬性和方法。\n"
      ]
    },
    {
      "cell_type": "code",
      "execution_count": null,
      "metadata": {
        "id": "gmfdzeBNCU8h"
      },
      "outputs": [],
      "source": [
        "class Cat:\n",
        "    def __init__(self, name, color, weight):\n",
        "        self.name = name\n",
        "        self.color = color\n",
        "        self.weight = weight\n",
        "    def meow(self):\n",
        "        print(f\"{self.name} says Meow!\")\n",
        "    def eat(self, food):\n",
        "        print(f\"{self.name} is eating {food}.\")\n",
        "    def sleep(self, hours):\n",
        "        print(f\"{self.name} sleeps for {hours} hours.\")"
      ]
    },
    {
      "cell_type": "code",
      "execution_count": null,
      "metadata": {
        "id": "fsuF3dMuCU8h",
        "outputId": "b3224c59-b652-4f69-8a54-76c3ce71bc55"
      },
      "outputs": [
        {
          "name": "stdout",
          "output_type": "stream",
          "text": [
            "大橘 says Meow!\n",
            "小白 is eating 魚.\n",
            "黑咪 sleeps for 10 hours.\n"
          ]
        }
      ],
      "source": [
        "cat1 = Cat(\"大橘\", \"橘色\", 5.5)\n",
        "cat2 = Cat(\"小白\", \"白色\", 4.2)\n",
        "cat3 = Cat(\"黑咪\", \"黑色\", 6.0)\n",
        "\n",
        "cat1.meow() # 大橘 says Meow!\n",
        "cat2.eat(\"魚\") # 小白 is eating 魚.\n",
        "cat3.sleep(10) # 黑咪 sleeps for 10 hours."
      ]
    },
    {
      "cell_type": "markdown",
      "metadata": {
        "id": "unYIalmZCU8h"
      },
      "source": [
        "## 模組與套件\n",
        "\n",
        "匯入整個模組或套件\n",
        "\n",
        "`import 模組套件或名稱`\n",
        "\n",
        "匯入模組或套件，並給別名\n",
        "\n",
        "`import 模組或套件名稱 as 別名`\n",
        "\n",
        "匯入模組或套件中特定的函數或類別\n",
        "\n",
        "`from 模組或套件名稱 import 子模組, 套件或函數名稱`"
      ]
    },
    {
      "cell_type": "code",
      "execution_count": null,
      "metadata": {
        "id": "K1dPVH1xCU8i",
        "outputId": "7ff37dc2-f6aa-4b4e-affe-772a92da839b"
      },
      "outputs": [
        {
          "name": "stdout",
          "output_type": "stream",
          "text": [
            "[1 2 3 4]\n",
            "11\n",
            "[ 0.84147098  0.90929743  0.14112001 -0.7568025 ]\n"
          ]
        }
      ],
      "source": [
        "import numpy as np\n",
        "\n",
        "# 在 Numpy 中建立陣列：\n",
        "arr = np.array([1, 2, 3, 4])\n",
        "print(arr) # [1 2 3 4]\n",
        "\n",
        "# 矩陣及向量運算：\n",
        "result = np.dot([1, 2], [3, 4])\n",
        "print(result) # 11\n",
        "\n",
        "# 數學運算：\n",
        "sin_values = np.sin(arr)\n",
        "print(sin_values) # [ 0.84147098  0.90929743  0.14112001 -0.7568025 ]"
      ]
    },
    {
      "cell_type": "markdown",
      "metadata": {
        "id": "tnLXE33BCU8i"
      },
      "source": [
        "### 小試身手 (6)\n",
        "請完成以下的題目！\n",
        "\n",
        "在日常的程式開發中，Numpy 是一個強大且常用的數值運算工具，適合用來處理陣列與矩陣運算。本練習的目的是讓你熟悉 Numpy 的基本操作，包含陣列的建立、基本運算、條件篩選以及簡單的矩陣操作。\n",
        "\n",
        "以下是幾個練習題，請依據提示補上程式碼並完成運算：\n",
        "1. 建立 Numpy 陣列並進行操作。\n",
        "2. 使用 Numpy 進行簡單的數學運算。\n",
        "3. 熟悉矩陣轉置與條件篩選的操作。\n",
        "4. 嘗試使用隨機數生成並進行基本的統計分析。\n",
        "\n",
        "請完成程式中的 `TODO` 區塊，並嘗試運行程式檢查結果是否正確！\n",
        "\n",
        "Hint: 善用各種搜尋工具！"
      ]
    },
    {
      "cell_type": "code",
      "execution_count": null,
      "metadata": {
        "id": "Kxix2oiHCU8i"
      },
      "outputs": [],
      "source": [
        "import numpy as np\n",
        "\n",
        "# 題目 1: 建立與操作 Numpy 陣列\n",
        "# 1-1. 建立一個一維陣列 arr1，內容為 [10, 20, 30, 40, 50]，並列印出來。\n",
        "# TODO: arr1 =\n",
        "\n",
        "# 1-2. 建立一個二維陣列 arr2，內容為 [[1, 2, 3], [4, 5, 6], [7, 8, 9]]，並列印出來。\n",
        "# TODO: arr2 =\n",
        "\n",
        "# 題目 2: 陣列基本運算\n",
        "# 2-1. 創建兩個陣列 arr1 = np.array([1, 2, 3]) 和 arr2 = np.array([4, 5, 6])，計算它們的逐元素相加。\n",
        "# TODO: sum_result =\n",
        "\n",
        "# 2-2. 計算 arr1 與 arr2 的逐元素乘積。\n",
        "# TODO: product_result =\n",
        "\n",
        "# 題目 3: 數學運算\n",
        "# 建立一個陣列 arr = np.array([0, np.pi/2, np.pi])，計算它的 sin 值。\n",
        "# TODO: sin_values =\n",
        "\n",
        "# 題目 4: 矩陣運算\n",
        "# 創建一個矩陣 A，內容為 [[1, 2], [3, 4]]，計算它的轉置 (transpose)。\n",
        "# TODO: A =\n",
        "# TODO: transpose_A =\n",
        "\n",
        "# 題目 5: 條件篩選\n",
        "# 建立一個陣列 arr = np.array([1, 2, 3, 4, 5, 6])，篩選出所有大於 3 的數字。\n",
        "# TODO: filtered_arr =\n",
        "\n",
        "# 附加挑戰\n",
        "# 請試著用 Numpy 產生 100 個標準常態分布的隨機數，並計算它的平均值。\n",
        "# TODO: random_numbers =\n",
        "# TODO: mean ="
      ]
    },
    {
      "cell_type": "code",
      "execution_count": null,
      "metadata": {
        "id": "t7hXkjfXCU8i",
        "outputId": "f8fcd1ec-bbe0-4dec-a6fc-19ab743c43bb"
      },
      "outputs": [
        {
          "name": "stdout",
          "output_type": "stream",
          "text": [
            "arr1: [10 20 30 40 50]\n",
            "arr2:\n",
            "[[1 2 3]\n",
            " [4 5 6]\n",
            " [7 8 9]]\n",
            "Sum of arr1 and arr2: [5 7 9]\n",
            "Product of arr1 and arr2: [ 4 10 18]\n",
            "Sin values of arr: [0.0000000e+00 1.0000000e+00 1.2246468e-16]\n",
            "Matrix A:\n",
            "[[1 2]\n",
            " [3 4]]\n",
            "Transpose of A:\n",
            "[[1 3]\n",
            " [2 4]]\n",
            "Filtered array (elements > 3): [4 5 6]\n",
            "Random numbers: [ 2.18661173 -0.28953573  2.18129802 -0.51785695  0.19285669  1.93176663\n",
            " -0.09857885  0.95791781  0.79934296  0.69313688 -1.15636882  0.88759415\n",
            " -1.78596579 -0.34985993  0.48760798  1.09547038  0.16980082  0.23534313\n",
            " -1.39637677 -0.65128477  1.3704337  -0.47273644  0.52247674 -0.65290948\n",
            " -0.0540018   2.09430002  0.93911079  0.91233466 -0.58369651 -0.18855816\n",
            " -0.02371708  0.03468095 -0.42296861 -0.29775316  1.20830777 -0.7664189\n",
            "  0.2942058  -1.85432507  0.43363231  1.72598284  0.69349037  0.56445267\n",
            "  0.37967418  0.46154851  1.79592327 -0.05012489  2.52467701  0.86811524\n",
            " -0.62638639 -0.69155206  0.79714892  0.62859099  0.42143642  0.74505268\n",
            "  0.07185307 -0.05973113 -0.15384674 -1.81139343  0.98321902 -1.07395848\n",
            " -0.58064477  0.04158864  0.60668015 -0.47650681  0.70334947  1.19447363\n",
            "  0.18450199 -1.20537319  0.804618   -0.57947154  0.95216162  0.18324735\n",
            " -0.16432266  0.43941289  0.85998026 -0.32581085 -0.63302188 -1.13148981\n",
            "  0.4815723  -0.33016371 -0.57682942  0.39646096  0.64664078 -1.8141975\n",
            " -0.0115818  -0.21895109  0.05038893  0.21850012  0.17092642 -1.4647652\n",
            "  0.16979524 -0.35900406  1.84102484  0.43415122  1.82827156  0.20842418\n",
            " -0.05701391 -0.3046352  -2.02913343 -0.96524007]\n",
            "Mean of random numbers: 0.15447502784879577\n"
          ]
        }
      ],
      "source": [
        "import numpy as np\n",
        "\n",
        "# 題目 1: 建立與操作 Numpy 陣列\n",
        "# 1-1. 建立一個一維陣列 arr1，內容為 [10, 20, 30, 40, 50]，並列印出來。\n",
        "arr1 = np.array([10, 20, 30, 40, 50])\n",
        "print(\"arr1:\", arr1)\n",
        "\n",
        "# 1-2. 建立一個二維陣列 arr2，內容為 [[1, 2, 3], [4, 5, 6], [7, 8, 9]]，並列印出來。\n",
        "arr2 = np.array([[1, 2, 3], [4, 5, 6], [7, 8, 9]])\n",
        "print(\"arr2:\")\n",
        "print(arr2)\n",
        "\n",
        "# 題目 2: 陣列基本運算\n",
        "# 2-1. 創建兩個陣列 arr1 = np.array([1, 2, 3]) 和 arr2 = np.array([4, 5, 6])，計算它們的逐元素相加。\n",
        "arr1 = np.array([1, 2, 3])\n",
        "arr2 = np.array([4, 5, 6])\n",
        "sum_result = arr1 + arr2\n",
        "print(\"Sum of arr1 and arr2:\", sum_result)\n",
        "\n",
        "# 2-2. 計算 arr1 與 arr2 的逐元素乘積。\n",
        "product_result = arr1 * arr2\n",
        "print(\"Product of arr1 and arr2:\", product_result)\n",
        "\n",
        "# 題目 3: 數學運算\n",
        "# 1. 建立一個陣列 arr = np.array([0, np.pi/2, np.pi])，計算它的 sin 值。\n",
        "arr = np.array([0, np.pi/2, np.pi])\n",
        "sin_values = np.sin(arr)\n",
        "print(\"Sin values of arr:\", sin_values)\n",
        "\n",
        "# 題目 4: 矩陣運算\n",
        "# 1. 創建一個矩陣 A，內容為 [[1, 2], [3, 4]]，計算它的轉置 (transpose)。\n",
        "A = np.array([[1, 2], [3, 4]])\n",
        "transpose_A = A.T\n",
        "print(\"Matrix A:\")\n",
        "print(A)\n",
        "print(\"Transpose of A:\")\n",
        "print(transpose_A)\n",
        "\n",
        "# 題目 5: 條件篩選\n",
        "# 1. 建立一個陣列 arr = np.array([1, 2, 3, 4, 5, 6])，篩選出所有大於 3 的數字。\n",
        "arr = np.array([1, 2, 3, 4, 5, 6])\n",
        "filtered_arr = arr[arr > 3]\n",
        "print(\"Filtered array (elements > 3):\", filtered_arr)\n",
        "\n",
        "# 附加挑戰\n",
        "# 請試著用 Numpy 產生 100 個標準常態分布的隨機數，並計算它的平均值。\n",
        "random_numbers = np.random.randn(100)  # 產生 100 個標準常態分布的數字\n",
        "mean = np.mean(random_numbers)\n",
        "print(\"Random numbers:\", random_numbers)\n",
        "print(\"Mean of random numbers:\", mean)\n"
      ]
    }
  ],
  "metadata": {
    "kernelspec": {
      "display_name": "base",
      "language": "python",
      "name": "python3"
    },
    "language_info": {
      "codemirror_mode": {
        "name": "ipython",
        "version": 3
      },
      "file_extension": ".py",
      "mimetype": "text/x-python",
      "name": "python",
      "nbconvert_exporter": "python",
      "pygments_lexer": "ipython3",
      "version": "3.12.2"
    },
    "colab": {
      "provenance": [],
      "include_colab_link": true
    }
  },
  "nbformat": 4,
  "nbformat_minor": 0
}